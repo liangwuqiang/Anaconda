{
 "cells": [
  {
   "cell_type": "code",
   "execution_count": 61,
   "metadata": {},
   "outputs": [
    {
     "data": {
      "text/plain": [
       "array([-1.33805737, -0.48119665,  1.41442241,  0.04078696, -0.80631753,\n",
       "       -1.30302805, -1.01147866, -0.38818487, -0.42770839,  0.8444319 ])"
      ]
     },
     "execution_count": 61,
     "metadata": {},
     "output_type": "execute_result"
    }
   ],
   "source": [
    "import matplotlib.pyplot as plt\n",
    "import numpy as np\n",
    "from numpy.random import randn\n",
    "\n",
    "n= 10\n",
    "X = randn(n)\n",
    "X"
   ]
  },
  {
   "cell_type": "code",
   "execution_count": 62,
   "metadata": {},
   "outputs": [
    {
     "data": {
      "text/plain": [
       "array([ 1.62630489, -1.21529692, -0.97665771,  0.05948539,  1.81328807,\n",
       "        2.43529946,  1.16617865,  0.23216783,  2.45884141, -0.24479312])"
      ]
     },
     "execution_count": 62,
     "metadata": {},
     "output_type": "execute_result"
    }
   ],
   "source": [
    "X =np.random.normal(0,1,n)\n",
    "X"
   ]
  },
  {
   "cell_type": "markdown",
   "metadata": {},
   "source": [
    "normal和randn中均适用于生成正态分布的随机数\n",
    "\n",
    "区别在于\n",
    "\n",
    "normal可以自己指定均值MU和方差sigma,而randn生成的是标准的正态分布(即MU=0,sigma=1)"
   ]
  },
  {
   "cell_type": "code",
   "execution_count": 63,
   "metadata": {},
   "outputs": [
    {
     "data": {
      "text/plain": [
       "array([ -6.47758011e-02,  -1.86310769e-01,   2.08822347e-02,\n",
       "        -1.64210480e+00,   1.53485867e+00,  -1.79126449e-01,\n",
       "        -2.07047685e-01,  -9.61551668e-02,   3.38081168e-01,\n",
       "         8.17757485e-04])"
      ]
     },
     "execution_count": 63,
     "metadata": {},
     "output_type": "execute_result"
    }
   ],
   "source": [
    "Y =np.random.normal(0,1,n)\n",
    "Y"
   ]
  },
  {
   "cell_type": "code",
   "execution_count": 64,
   "metadata": {},
   "outputs": [
    {
     "data": {
      "text/plain": [
       "array([-0.039809  , -2.98947227,  3.12021459, -1.53458707,  0.70242981,\n",
       "       -0.07342196, -0.17571272, -0.39265533,  0.13663936,  3.13825206])"
      ]
     },
     "execution_count": 64,
     "metadata": {},
     "output_type": "execute_result"
    }
   ],
   "source": [
    "T = np.arctan2(Y,X)\n",
    "T"
   ]
  },
  {
   "cell_type": "markdown",
   "metadata": {},
   "source": [
    "这是一个反三角函数问题\n",
    "\n",
    "ATAN2(a,b)的取值范围介于 -pi 到 pi 之间（不包括 -pi）"
   ]
  },
  {
   "cell_type": "code",
   "execution_count": 65,
   "metadata": {},
   "outputs": [
    {
     "data": {
      "text/plain": [
       "<matplotlib.collections.PathCollection at 0x81f8dd8>"
      ]
     },
     "execution_count": 65,
     "metadata": {},
     "output_type": "execute_result"
    }
   ],
   "source": [
    "plt.scatter(X,Y,s=75,c=T,alpha=0.5)"
   ]
  },
  {
   "cell_type": "markdown",
   "metadata": {},
   "source": [
    "X,Y 位置\n",
    "\n",
    "s 散点的大小\n",
    "\n",
    "c 颜色\n",
    "\n",
    "alpha 透明度"
   ]
  },
  {
   "cell_type": "code",
   "execution_count": 66,
   "metadata": {},
   "outputs": [],
   "source": [
    "# plt.xlim(-1.5,1.5)  # 限定X的取值范围\n",
    "# plt.ylim(-1.5,1.5)\n",
    "# plt.xticks(())  # 不显示坐标轴\n",
    "# plt.yticks(())"
   ]
  },
  {
   "cell_type": "code",
   "execution_count": 67,
   "metadata": {},
   "outputs": [
    {
     "data": {
      "image/png": "[encoded data removed]",
      "text/plain": [
       "<matplotlib.figure.Figure at 0x644c0f0>"
      ]
     },
     "metadata": {},
     "output_type": "display_data"
    }
   ],
   "source": [
    "plt.show()"
   ]
  }
 ],
 "metadata": {
  "kernelspec": {
   "display_name": "Python 3",
   "language": "python",
   "name": "python3"
  },
  "language_info": {
   "codemirror_mode": {
    "name": "ipython",
    "version": 3
   },
   "file_extension": ".py",
   "mimetype": "text/x-python",
   "name": "python",
   "nbconvert_exporter": "python",
   "pygments_lexer": "ipython3",
   "version": "3.6.1"
  }
 },
 "nbformat": 4,
 "nbformat_minor": 2
}
